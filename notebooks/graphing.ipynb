{
 "cells": [
  {
   "cell_type": "code",
   "execution_count": 7,
   "metadata": {},
   "outputs": [],
   "source": [
    "import polars as pl"
   ]
  },
  {
   "cell_type": "code",
   "execution_count": 8,
   "metadata": {},
   "outputs": [
    {
     "data": {
      "text/html": [
       "<div><style>\n",
       ".dataframe > thead > tr > th,\n",
       ".dataframe > tbody > tr > td {\n",
       "  text-align: right;\n",
       "  white-space: pre-wrap;\n",
       "}\n",
       "</style>\n",
       "<small>shape: (5, 6)</small><table border=\"1\" class=\"dataframe\"><thead><tr><th></th><th>bin_id</th><th>reserveX</th><th>reserveY</th><th>bin_price</th><th>reserveX_in_Y</th></tr><tr><td>i64</td><td>i64</td><td>f64</td><td>f64</td><td>f64</td><td>f64</td></tr></thead><tbody><tr><td>63</td><td>8375753</td><td>0.0</td><td>747.200137</td><td>7.005509</td><td>0.0</td></tr><tr><td>64</td><td>8375754</td><td>0.0</td><td>734.506927</td><td>7.01952</td><td>0.0</td></tr><tr><td>65</td><td>8375755</td><td>0.0</td><td>731.568879</td><td>7.033559</td><td>0.0</td></tr><tr><td>66</td><td>8375756</td><td>0.0</td><td>728.630832</td><td>7.047627</td><td>0.0</td></tr><tr><td>67</td><td>8375757</td><td>0.0</td><td>725.937622</td><td>7.061722</td><td>0.0</td></tr></tbody></table></div>"
      ],
      "text/plain": [
       "shape: (5, 6)\n",
       "┌─────┬─────────┬──────────┬────────────┬───────────┬───────────────┐\n",
       "│     ┆ bin_id  ┆ reserveX ┆ reserveY   ┆ bin_price ┆ reserveX_in_Y │\n",
       "│ --- ┆ ---     ┆ ---      ┆ ---        ┆ ---       ┆ ---           │\n",
       "│ i64 ┆ i64     ┆ f64      ┆ f64        ┆ f64       ┆ f64           │\n",
       "╞═════╪═════════╪══════════╪════════════╪═══════════╪═══════════════╡\n",
       "│ 63  ┆ 8375753 ┆ 0.0      ┆ 747.200137 ┆ 7.005509  ┆ 0.0           │\n",
       "│ 64  ┆ 8375754 ┆ 0.0      ┆ 734.506927 ┆ 7.01952   ┆ 0.0           │\n",
       "│ 65  ┆ 8375755 ┆ 0.0      ┆ 731.568879 ┆ 7.033559  ┆ 0.0           │\n",
       "│ 66  ┆ 8375756 ┆ 0.0      ┆ 728.630832 ┆ 7.047627  ┆ 0.0           │\n",
       "│ 67  ┆ 8375757 ┆ 0.0      ┆ 725.937622 ┆ 7.061722  ┆ 0.0           │\n",
       "└─────┴─────────┴──────────┴────────────┴───────────┴───────────────┘"
      ]
     },
     "execution_count": 8,
     "metadata": {},
     "output_type": "execute_result"
    }
   ],
   "source": [
    "df = pl.read_csv('../outputs/csvs/lb_avax_usdc_1695057880.csv')\n",
    "df.head(5)"
   ]
  },
  {
   "cell_type": "code",
   "execution_count": 20,
   "metadata": {},
   "outputs": [],
   "source": [
    "active_price = list(df.filter((pl.col(\"reserveX\") > 0) & (pl.col(\"reserveY\") > 0))[\"bin_price\"])[0]\n",
    "active_price"
   ]
  }
 ],
 "metadata": {
  "kernelspec": {
   "display_name": "Python 3.10.9 ('base')",
   "language": "python",
   "name": "python3"
  },
  "language_info": {
   "codemirror_mode": {
    "name": "ipython",
    "version": 3
   },
   "file_extension": ".py",
   "mimetype": "text/x-python",
   "name": "python",
   "nbconvert_exporter": "python",
   "pygments_lexer": "ipython3",
   "version": "3.10.9"
  },
  "orig_nbformat": 4,
  "vscode": {
   "interpreter": {
    "hash": "8f8917ddca50c94eb723f4afdf5746b6d40fa39d905feed4db2063b5d802cdc8"
   }
  }
 },
 "nbformat": 4,
 "nbformat_minor": 2
}
