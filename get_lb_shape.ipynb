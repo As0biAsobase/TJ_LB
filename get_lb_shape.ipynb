{
 "cells": [
  {
   "cell_type": "code",
   "execution_count": 1,
   "metadata": {},
   "outputs": [],
   "source": [
    "from web3 import Web3\n",
    "import requests\n",
    "import time"
   ]
  },
  {
   "cell_type": "code",
   "execution_count": 2,
   "metadata": {},
   "outputs": [],
   "source": [
    "import seaborn as sn\n",
    "import numpy as np\n",
    "import pandas as pd\n",
    "import matplotlib.pyplot as plt"
   ]
  },
  {
   "cell_type": "code",
   "execution_count": 3,
   "metadata": {},
   "outputs": [],
   "source": [
    "w3 = Web3(Web3.HTTPProvider(\"https://api.avax.network/ext/bc/C/rpc\"))\n",
    "\n",
    "lb_proxy = Web3.toChecksumAddress(\"0xee5A90098b270596Ec35D637b30d908C862c86df\")\n",
    "abi=requests.get(f\"https://api.snowtrace.io/api?module=contract&action=getabi&address={lb_proxy}\").json()['result']"
   ]
  },
  {
   "cell_type": "code",
   "execution_count": 4,
   "metadata": {},
   "outputs": [],
   "source": [
    "lb_impl = Web3.toChecksumAddress(\"0xD446eb1660F766d533BeCeEf890Df7A69d26f7d1\")\n",
    "contract = w3.eth.contract(address=lb_impl, abi=abi)"
   ]
  },
  {
   "cell_type": "code",
   "execution_count": 5,
   "metadata": {},
   "outputs": [],
   "source": [
    "def get_decimals(address):\n",
    "    abi=requests.get(f\"https://api.snowtrace.io/api?module=contract&action=getabi&address={Web3.toChecksumAddress(address)}\").json()['result']\n",
    "\n",
    "    contract = w3.eth.contract(address=address, abi=abi)\n",
    "    return contract.functions.decimals().call()"
   ]
  },
  {
   "cell_type": "code",
   "execution_count": 6,
   "metadata": {},
   "outputs": [],
   "source": [
    "tokenX = contract.functions.getTokenX().call()\n",
    "tokenY = contract.functions.getTokenY().call()"
   ]
  },
  {
   "cell_type": "code",
   "execution_count": 7,
   "metadata": {},
   "outputs": [],
   "source": [
    "active_bin = contract.functions.getActiveId().call()\n",
    "left_bins = [contract.functions.getNextNonEmptyBin(True, active_bin).call()]\n",
    "right_bins = [contract.functions.getNextNonEmptyBin(False, active_bin).call()]\n"
   ]
  },
  {
   "cell_type": "code",
   "execution_count": 8,
   "metadata": {},
   "outputs": [
    {
     "name": "stdout",
     "output_type": "stream",
     "text": [
      "Found all USDC bins, looking for AVAX bins...\n"
     ]
    }
   ],
   "source": [
    "while True:\n",
    "    next_bin = contract.functions.getNextNonEmptyBin(True, left_bins[0]).call()\n",
    "    if next_bin > left_bins[0] or len(left_bins)==250:\n",
    "        break\n",
    "    else:\n",
    "        left_bins.insert(0, next_bin)\n",
    "\n",
    "print(\"Found all USDC bins, looking for AVAX bins...\")\n",
    "\n",
    "while True:\n",
    "    next_bin = contract.functions.getNextNonEmptyBin(False, right_bins[-1]).call()\n",
    "    if next_bin < right_bins[-1] or len(right_bins)==250:\n",
    "        break\n",
    "    else:\n",
    "        right_bins.append(next_bin)"
   ]
  },
  {
   "cell_type": "code",
   "execution_count": 9,
   "metadata": {},
   "outputs": [],
   "source": [
    "target_bins = left_bins + [active_bin] + right_bins"
   ]
  },
  {
   "cell_type": "code",
   "execution_count": 17,
   "metadata": {},
   "outputs": [],
   "source": [
    "import multiprocessing\n",
    "import os\n",
    "\n",
    "def process_bin(bin):\n",
    "    bin_step = 0.002\n",
    "    reserveX, reserveY = contract.functions.getBin(bin).call()\n",
    "    bin_price = (1+bin_step)**(bin-2**23)\n",
    "    print(bin, end=\"\\r\")\n",
    "    return {\"bin_id\" : bin, \"reserveX\" : reserveX, \"reserveY\" : reserveY, \"bin_price\" : bin_price}\n",
    "\n",
    "\n",
    "def get_liquidity_shape_parallel(target_bins: list) -> list:\n",
    "    data = []\n",
    "\n",
    "    with multiprocessing.Pool(processes=os.cpu_count()) as pool:\n",
    "        results = pool.map(process_bin, target_bins)\n",
    "\n",
    "    return results\n"
   ]
  },
  {
   "cell_type": "code",
   "execution_count": 18,
   "metadata": {},
   "outputs": [],
   "source": [
    "start = int(time.time())\n",
    "get_liquidity_shape_parallel(target_bins[:5])\n",
    "print(f\"Time taken: {int(time.time())-start} seconds\")"
   ]
  },
  {
   "cell_type": "code",
   "execution_count": null,
   "metadata": {},
   "outputs": [],
   "source": [
    "def get_liquidity_shape(contract, target_bins: list) -> list:\n",
    "    data = []\n",
    "    bin_step = 0.002\n",
    "\n",
    "    print(\"Retreiving all bins...\")\n",
    "\n",
    "    for i, bin in enumerate(target_bins):\n",
    "        print(f\"Retrieving bin {i} out of {len(target_bins)}. {len(target_bins)-i} bins left\", end=\"\\r\")\n",
    "        reserveX, reserveY = contract.functions.getBin(bin).call()\n",
    "        bin_price = (1+bin_step)**(bin-2**23)\n",
    "        data.append({\"bin_id\" : bin, \"reserveX\" : reserveX, \"reserveY\" : reserveY, \"bin_price\" : bin_price})\n",
    "\n",
    "    print(\"Liquidity shape retrieved\")\n",
    "\n",
    "    return data"
   ]
  },
  {
   "cell_type": "code",
   "execution_count": 29,
   "metadata": {},
   "outputs": [
    {
     "name": "stdout",
     "output_type": "stream",
     "text": [
      "Retrieving bin 499 out of 500. 1 bins lefttt\r"
     ]
    }
   ],
   "source": [
    "data = []\n",
    "bin_step = 0.002\n",
    "\n",
    "\n",
    "for i, bin in enumerate(target_bins):\n",
    "    print(f\"Retrieving bin {i} out of {len(target_bins)}. {len(target_bins)-i} bins left\", end=\"\\r\")\n",
    "    reserveX, reserveY = contract.functions.getBin(bin).call()\n",
    "    bin_price = (1+bin_step)**(bin-2**23)\n",
    "    data.append({\"bin_id\" : bin, \"reserveX\" : reserveX, \"reserveY\" : reserveY, \"bin_price\" : bin_price})"
   ]
  },
  {
   "cell_type": "code",
   "execution_count": 30,
   "metadata": {},
   "outputs": [
    {
     "data": {
      "text/html": [
       "<div>\n",
       "<style scoped>\n",
       "    .dataframe tbody tr th:only-of-type {\n",
       "        vertical-align: middle;\n",
       "    }\n",
       "\n",
       "    .dataframe tbody tr th {\n",
       "        vertical-align: top;\n",
       "    }\n",
       "\n",
       "    .dataframe thead th {\n",
       "        text-align: right;\n",
       "    }\n",
       "</style>\n",
       "<table border=\"1\" class=\"dataframe\">\n",
       "  <thead>\n",
       "    <tr style=\"text-align: right;\">\n",
       "      <th></th>\n",
       "      <th>reserveX</th>\n",
       "      <th>reserveY</th>\n",
       "      <th>bin_price</th>\n",
       "    </tr>\n",
       "    <tr>\n",
       "      <th>bin_id</th>\n",
       "      <th></th>\n",
       "      <th></th>\n",
       "      <th></th>\n",
       "    </tr>\n",
       "  </thead>\n",
       "  <tbody>\n",
       "    <tr>\n",
       "      <th>8375648</th>\n",
       "      <td>0</td>\n",
       "      <td>6027060</td>\n",
       "      <td>5.679747e-12</td>\n",
       "    </tr>\n",
       "    <tr>\n",
       "      <th>8375649</th>\n",
       "      <td>0</td>\n",
       "      <td>6027060</td>\n",
       "      <td>5.691106e-12</td>\n",
       "    </tr>\n",
       "    <tr>\n",
       "      <th>8375650</th>\n",
       "      <td>0</td>\n",
       "      <td>184276460</td>\n",
       "      <td>5.702488e-12</td>\n",
       "    </tr>\n",
       "    <tr>\n",
       "      <th>8375651</th>\n",
       "      <td>0</td>\n",
       "      <td>6027060</td>\n",
       "      <td>5.713893e-12</td>\n",
       "    </tr>\n",
       "    <tr>\n",
       "      <th>8375652</th>\n",
       "      <td>0</td>\n",
       "      <td>6027060</td>\n",
       "      <td>5.725321e-12</td>\n",
       "    </tr>\n",
       "    <tr>\n",
       "      <th>...</th>\n",
       "      <td>...</td>\n",
       "      <td>...</td>\n",
       "      <td>...</td>\n",
       "    </tr>\n",
       "    <tr>\n",
       "      <th>8376144</th>\n",
       "      <td>151251875747780449050</td>\n",
       "      <td>0</td>\n",
       "      <td>1.530097e-11</td>\n",
       "    </tr>\n",
       "    <tr>\n",
       "      <th>8376145</th>\n",
       "      <td>151955755209071448555</td>\n",
       "      <td>0</td>\n",
       "      <td>1.533157e-11</td>\n",
       "    </tr>\n",
       "    <tr>\n",
       "      <th>8376146</th>\n",
       "      <td>161211151528193941472</td>\n",
       "      <td>0</td>\n",
       "      <td>1.536223e-11</td>\n",
       "    </tr>\n",
       "    <tr>\n",
       "      <th>8376147</th>\n",
       "      <td>164425335063571210314</td>\n",
       "      <td>0</td>\n",
       "      <td>1.539295e-11</td>\n",
       "    </tr>\n",
       "    <tr>\n",
       "      <th>8376148</th>\n",
       "      <td>164427217611349260748</td>\n",
       "      <td>0</td>\n",
       "      <td>1.542374e-11</td>\n",
       "    </tr>\n",
       "  </tbody>\n",
       "</table>\n",
       "<p>500 rows × 3 columns</p>\n",
       "</div>"
      ],
      "text/plain": [
       "                      reserveX   reserveY     bin_price\n",
       "bin_id                                                 \n",
       "8375648                      0    6027060  5.679747e-12\n",
       "8375649                      0    6027060  5.691106e-12\n",
       "8375650                      0  184276460  5.702488e-12\n",
       "8375651                      0    6027060  5.713893e-12\n",
       "8375652                      0    6027060  5.725321e-12\n",
       "...                        ...        ...           ...\n",
       "8376144  151251875747780449050          0  1.530097e-11\n",
       "8376145  151955755209071448555          0  1.533157e-11\n",
       "8376146  161211151528193941472          0  1.536223e-11\n",
       "8376147  164425335063571210314          0  1.539295e-11\n",
       "8376148  164427217611349260748          0  1.542374e-11\n",
       "\n",
       "[500 rows x 3 columns]"
      ]
     },
     "execution_count": 30,
     "metadata": {},
     "output_type": "execute_result"
    }
   ],
   "source": [
    "df = pd.DataFrame.from_dict(data)\n",
    "df.set_index('bin_id')"
   ]
  },
  {
   "cell_type": "code",
   "execution_count": 64,
   "metadata": {},
   "outputs": [
    {
     "data": {
      "text/html": [
       "<div>\n",
       "<style scoped>\n",
       "    .dataframe tbody tr th:only-of-type {\n",
       "        vertical-align: middle;\n",
       "    }\n",
       "\n",
       "    .dataframe tbody tr th {\n",
       "        vertical-align: top;\n",
       "    }\n",
       "\n",
       "    .dataframe thead th {\n",
       "        text-align: right;\n",
       "    }\n",
       "</style>\n",
       "<table border=\"1\" class=\"dataframe\">\n",
       "  <thead>\n",
       "    <tr style=\"text-align: right;\">\n",
       "      <th></th>\n",
       "      <th>bin_id</th>\n",
       "      <th>reserveX</th>\n",
       "      <th>reserveY</th>\n",
       "      <th>bin_price</th>\n",
       "      <th>reserveX_in_Y</th>\n",
       "    </tr>\n",
       "  </thead>\n",
       "  <tbody>\n",
       "    <tr>\n",
       "      <th>200</th>\n",
       "      <td>8376937</td>\n",
       "      <td>0.0</td>\n",
       "      <td>0.0</td>\n",
       "      <td>25276.689233</td>\n",
       "      <td>0.0</td>\n",
       "    </tr>\n",
       "    <tr>\n",
       "      <th>201</th>\n",
       "      <td>8376938</td>\n",
       "      <td>0.0</td>\n",
       "      <td>0.0</td>\n",
       "      <td>25314.604267</td>\n",
       "      <td>0.0</td>\n",
       "    </tr>\n",
       "    <tr>\n",
       "      <th>202</th>\n",
       "      <td>8376939</td>\n",
       "      <td>0.0</td>\n",
       "      <td>0.0</td>\n",
       "      <td>25352.576173</td>\n",
       "      <td>0.0</td>\n",
       "    </tr>\n",
       "    <tr>\n",
       "      <th>203</th>\n",
       "      <td>8376940</td>\n",
       "      <td>0.0</td>\n",
       "      <td>0.0</td>\n",
       "      <td>25390.605038</td>\n",
       "      <td>0.0</td>\n",
       "    </tr>\n",
       "    <tr>\n",
       "      <th>204</th>\n",
       "      <td>8376941</td>\n",
       "      <td>0.0</td>\n",
       "      <td>0.0</td>\n",
       "      <td>25428.690945</td>\n",
       "      <td>0.0</td>\n",
       "    </tr>\n",
       "    <tr>\n",
       "      <th>...</th>\n",
       "      <td>...</td>\n",
       "      <td>...</td>\n",
       "      <td>...</td>\n",
       "      <td>...</td>\n",
       "      <td>...</td>\n",
       "    </tr>\n",
       "    <tr>\n",
       "      <th>1220</th>\n",
       "      <td>8377957</td>\n",
       "      <td>0.0</td>\n",
       "      <td>0.0</td>\n",
       "      <td>116598.480609</td>\n",
       "      <td>0.0</td>\n",
       "    </tr>\n",
       "    <tr>\n",
       "      <th>1221</th>\n",
       "      <td>8377958</td>\n",
       "      <td>0.0</td>\n",
       "      <td>0.0</td>\n",
       "      <td>116773.378330</td>\n",
       "      <td>0.0</td>\n",
       "    </tr>\n",
       "    <tr>\n",
       "      <th>1222</th>\n",
       "      <td>8377959</td>\n",
       "      <td>0.0</td>\n",
       "      <td>0.0</td>\n",
       "      <td>116948.538398</td>\n",
       "      <td>0.0</td>\n",
       "    </tr>\n",
       "    <tr>\n",
       "      <th>1223</th>\n",
       "      <td>8377960</td>\n",
       "      <td>0.0</td>\n",
       "      <td>0.0</td>\n",
       "      <td>117123.961205</td>\n",
       "      <td>0.0</td>\n",
       "    </tr>\n",
       "    <tr>\n",
       "      <th>1224</th>\n",
       "      <td>8377961</td>\n",
       "      <td>0.0</td>\n",
       "      <td>0.0</td>\n",
       "      <td>117299.647147</td>\n",
       "      <td>0.0</td>\n",
       "    </tr>\n",
       "  </tbody>\n",
       "</table>\n",
       "<p>1025 rows × 5 columns</p>\n",
       "</div>"
      ],
      "text/plain": [
       "       bin_id reserveX  reserveY      bin_price reserveX_in_Y\n",
       "200   8376937      0.0       0.0   25276.689233           0.0\n",
       "201   8376938      0.0       0.0   25314.604267           0.0\n",
       "202   8376939      0.0       0.0   25352.576173           0.0\n",
       "203   8376940      0.0       0.0   25390.605038           0.0\n",
       "204   8376941      0.0       0.0   25428.690945           0.0\n",
       "...       ...      ...       ...            ...           ...\n",
       "1220  8377957      0.0       0.0  116598.480609           0.0\n",
       "1221  8377958      0.0       0.0  116773.378330           0.0\n",
       "1222  8377959      0.0       0.0  116948.538398           0.0\n",
       "1223  8377960      0.0       0.0  117123.961205           0.0\n",
       "1224  8377961      0.0       0.0  117299.647147           0.0\n",
       "\n",
       "[1025 rows x 5 columns]"
      ]
     },
     "execution_count": 64,
     "metadata": {},
     "output_type": "execute_result"
    }
   ],
   "source": [
    "df[(df['reserveX'] == 0) & (df['reserveY'] == 0)]"
   ]
  },
  {
   "cell_type": "code",
   "execution_count": 72,
   "metadata": {},
   "outputs": [
    {
     "data": {
      "text/html": [
       "<div>\n",
       "<style scoped>\n",
       "    .dataframe tbody tr th:only-of-type {\n",
       "        vertical-align: middle;\n",
       "    }\n",
       "\n",
       "    .dataframe tbody tr th {\n",
       "        vertical-align: top;\n",
       "    }\n",
       "\n",
       "    .dataframe thead th {\n",
       "        text-align: right;\n",
       "    }\n",
       "</style>\n",
       "<table border=\"1\" class=\"dataframe\">\n",
       "  <thead>\n",
       "    <tr style=\"text-align: right;\">\n",
       "      <th></th>\n",
       "      <th>bin_id</th>\n",
       "      <th>reserveX</th>\n",
       "      <th>reserveY</th>\n",
       "      <th>bin_price</th>\n",
       "      <th>reserveX_in_Y</th>\n",
       "    </tr>\n",
       "  </thead>\n",
       "  <tbody>\n",
       "    <tr>\n",
       "      <th>107</th>\n",
       "      <td>8376844</td>\n",
       "      <td>25469.22881</td>\n",
       "      <td>1026.656607</td>\n",
       "      <td>0.175121</td>\n",
       "      <td>4460.199384</td>\n",
       "    </tr>\n",
       "  </tbody>\n",
       "</table>\n",
       "</div>"
      ],
      "text/plain": [
       "      bin_id     reserveX     reserveY  bin_price reserveX_in_Y\n",
       "107  8376844  25469.22881  1026.656607   0.175121   4460.199384"
      ]
     },
     "execution_count": 72,
     "metadata": {},
     "output_type": "execute_result"
    }
   ],
   "source": [
    "df[(df['reserveX'] > 0) & (df['reserveY'] > 0)]"
   ]
  },
  {
   "cell_type": "code",
   "execution_count": 31,
   "metadata": {},
   "outputs": [
    {
     "data": {
      "text/html": [
       "<div>\n",
       "<style scoped>\n",
       "    .dataframe tbody tr th:only-of-type {\n",
       "        vertical-align: middle;\n",
       "    }\n",
       "\n",
       "    .dataframe tbody tr th {\n",
       "        vertical-align: top;\n",
       "    }\n",
       "\n",
       "    .dataframe thead th {\n",
       "        text-align: right;\n",
       "    }\n",
       "</style>\n",
       "<table border=\"1\" class=\"dataframe\">\n",
       "  <thead>\n",
       "    <tr style=\"text-align: right;\">\n",
       "      <th></th>\n",
       "      <th>bin_id</th>\n",
       "      <th>reserveX</th>\n",
       "      <th>reserveY</th>\n",
       "      <th>bin_price</th>\n",
       "      <th>reserveX_in_Y</th>\n",
       "    </tr>\n",
       "  </thead>\n",
       "  <tbody>\n",
       "    <tr>\n",
       "      <th>0</th>\n",
       "      <td>8375648</td>\n",
       "      <td>0.0</td>\n",
       "      <td>6.02706</td>\n",
       "      <td>5.679747</td>\n",
       "      <td>0.0</td>\n",
       "    </tr>\n",
       "    <tr>\n",
       "      <th>1</th>\n",
       "      <td>8375649</td>\n",
       "      <td>0.0</td>\n",
       "      <td>6.02706</td>\n",
       "      <td>5.691106</td>\n",
       "      <td>0.0</td>\n",
       "    </tr>\n",
       "    <tr>\n",
       "      <th>2</th>\n",
       "      <td>8375650</td>\n",
       "      <td>0.0</td>\n",
       "      <td>184.27646</td>\n",
       "      <td>5.702488</td>\n",
       "      <td>0.0</td>\n",
       "    </tr>\n",
       "    <tr>\n",
       "      <th>3</th>\n",
       "      <td>8375651</td>\n",
       "      <td>0.0</td>\n",
       "      <td>6.02706</td>\n",
       "      <td>5.713893</td>\n",
       "      <td>0.0</td>\n",
       "    </tr>\n",
       "    <tr>\n",
       "      <th>4</th>\n",
       "      <td>8375652</td>\n",
       "      <td>0.0</td>\n",
       "      <td>6.02706</td>\n",
       "      <td>5.725321</td>\n",
       "      <td>0.0</td>\n",
       "    </tr>\n",
       "    <tr>\n",
       "      <th>...</th>\n",
       "      <td>...</td>\n",
       "      <td>...</td>\n",
       "      <td>...</td>\n",
       "      <td>...</td>\n",
       "      <td>...</td>\n",
       "    </tr>\n",
       "    <tr>\n",
       "      <th>495</th>\n",
       "      <td>8376144</td>\n",
       "      <td>151.251876</td>\n",
       "      <td>0.00000</td>\n",
       "      <td>15.300965</td>\n",
       "      <td>2314.299727</td>\n",
       "    </tr>\n",
       "    <tr>\n",
       "      <th>496</th>\n",
       "      <td>8376145</td>\n",
       "      <td>151.955755</td>\n",
       "      <td>0.00000</td>\n",
       "      <td>15.331567</td>\n",
       "      <td>2329.719901</td>\n",
       "    </tr>\n",
       "    <tr>\n",
       "      <th>497</th>\n",
       "      <td>8376146</td>\n",
       "      <td>161.211152</td>\n",
       "      <td>0.00000</td>\n",
       "      <td>15.362231</td>\n",
       "      <td>2476.562873</td>\n",
       "    </tr>\n",
       "    <tr>\n",
       "      <th>498</th>\n",
       "      <td>8376147</td>\n",
       "      <td>164.425335</td>\n",
       "      <td>0.00000</td>\n",
       "      <td>15.392955</td>\n",
       "      <td>2530.991781</td>\n",
       "    </tr>\n",
       "    <tr>\n",
       "      <th>499</th>\n",
       "      <td>8376148</td>\n",
       "      <td>164.427218</td>\n",
       "      <td>0.00000</td>\n",
       "      <td>15.423741</td>\n",
       "      <td>2536.082801</td>\n",
       "    </tr>\n",
       "  </tbody>\n",
       "</table>\n",
       "<p>500 rows × 5 columns</p>\n",
       "</div>"
      ],
      "text/plain": [
       "      bin_id    reserveX   reserveY  bin_price reserveX_in_Y\n",
       "0    8375648         0.0    6.02706   5.679747           0.0\n",
       "1    8375649         0.0    6.02706   5.691106           0.0\n",
       "2    8375650         0.0  184.27646   5.702488           0.0\n",
       "3    8375651         0.0    6.02706   5.713893           0.0\n",
       "4    8375652         0.0    6.02706   5.725321           0.0\n",
       "..       ...         ...        ...        ...           ...\n",
       "495  8376144  151.251876    0.00000  15.300965   2314.299727\n",
       "496  8376145  151.955755    0.00000  15.331567   2329.719901\n",
       "497  8376146  161.211152    0.00000  15.362231   2476.562873\n",
       "498  8376147  164.425335    0.00000  15.392955   2530.991781\n",
       "499  8376148  164.427218    0.00000  15.423741   2536.082801\n",
       "\n",
       "[500 rows x 5 columns]"
      ]
     },
     "execution_count": 31,
     "metadata": {},
     "output_type": "execute_result"
    }
   ],
   "source": [
    "tokenX_decimals = 18\n",
    "tokenY_decimals = 6\n",
    "\n",
    "tokenX_symbol = \"AVAX\"\n",
    "tokenY_symbol = \"USDC\"\n",
    "\n",
    "df['reserveX'] = df['reserveX'].div(10**tokenX_decimals)\n",
    "df['reserveY'] = df['reserveY'].div(10**tokenY_decimals) \n",
    "df['bin_price'] = df['bin_price'] * 10**(tokenX_decimals-tokenY_decimals)\n",
    "df[\"reserveX_in_Y\"] = df['reserveX'] * df['bin_price']\n",
    "df"
   ]
  },
  {
   "cell_type": "code",
   "execution_count": 1,
   "metadata": {},
   "outputs": [
    {
     "ename": "NameError",
     "evalue": "name 'df' is not defined",
     "output_type": "error",
     "traceback": [
      "\u001b[1;31m---------------------------------------------------------------------------\u001b[0m",
      "\u001b[1;31mNameError\u001b[0m                                 Traceback (most recent call last)",
      "\u001b[1;32md:\\Dev\\Crypto\\TJ_LB\\get_lb_shape.ipynb Cell 15'\u001b[0m in \u001b[0;36m<cell line: 3>\u001b[1;34m()\u001b[0m\n\u001b[0;32m      <a href='vscode-notebook-cell:/d%3A/Dev/Crypto/TJ_LB/get_lb_shape.ipynb#ch0000014?line=0'>1</a>\u001b[0m tick_gap \u001b[39m=\u001b[39m \u001b[39m10\u001b[39m\n\u001b[1;32m----> <a href='vscode-notebook-cell:/d%3A/Dev/Crypto/TJ_LB/get_lb_shape.ipynb#ch0000014?line=2'>3</a>\u001b[0m xticks \u001b[39m=\u001b[39m df\u001b[39m.\u001b[39mbin_id[::tick_gap]\n\u001b[0;32m      <a href='vscode-notebook-cell:/d%3A/Dev/Crypto/TJ_LB/get_lb_shape.ipynb#ch0000014?line=3'>4</a>\u001b[0m xtick_lables \u001b[39m=\u001b[39m df\u001b[39m.\u001b[39mbin_price[::tick_gap]\n\u001b[0;32m      <a href='vscode-notebook-cell:/d%3A/Dev/Crypto/TJ_LB/get_lb_shape.ipynb#ch0000014?line=5'>6</a>\u001b[0m fig, ax \u001b[39m=\u001b[39m plt\u001b[39m.\u001b[39msubplots()\n",
      "\u001b[1;31mNameError\u001b[0m: name 'df' is not defined"
     ]
    }
   ],
   "source": [
    "\n",
    "tick_gap = 10\n",
    "\n",
    "xticks = df.bin_id[::tick_gap]\n",
    "xtick_lables = df.bin_price[::tick_gap]\n",
    "\n",
    "fig, ax = plt.subplots()\n",
    "\n",
    "ax.bar(list(df.bin_id), list(df.reserveY), label=tokenY_symbol, color='b', edgecolor=\"none\")\n",
    "ax.bar(list(df.bin_id), list(df.reserveX_in_Y), bottom=np.array(df.reserveY, dtype=float), label=tokenX_symbol, color='r', edgecolor=\"none\")\n",
    "\n",
    "ax.set_ylabel('TVL ($)')\n",
    "ax.set_xlabel('Price ($)')\n",
    "ax.set_title('LIquidity distribution per bin')\n",
    "ax.legend()\n",
    "\n",
    "ax.ticklabel_format(style='plain', useOffset=False)\n",
    "fig.set_size_inches(18.5, 10.5, forward=True)\n",
    "ax.set_xticks(xticks)\n",
    "ax.set_xticklabels(np.round(xtick_lables, 4), rotation=90)\n",
    "# plt.xticks(xticks, rotation=90)\n",
    "ax.axvline(x=active_bin, color='red', linestyle='--', label='Active Bin')\n",
    "ax.legend()\n",
    "plt.show()"
   ]
  },
  {
   "cell_type": "code",
   "execution_count": 46,
   "metadata": {},
   "outputs": [
    {
     "data": {
      "text/plain": [
       "8375899"
      ]
     },
     "execution_count": 46,
     "metadata": {},
     "output_type": "execute_result"
    }
   ],
   "source": [
    "xticks[250]"
   ]
  },
  {
   "cell_type": "code",
   "execution_count": 83,
   "metadata": {},
   "outputs": [
    {
     "data": {
      "text/plain": [
       "1300.1263747663477"
      ]
     },
     "execution_count": 83,
     "metadata": {},
     "output_type": "execute_result"
    }
   ],
   "source": [
    "df[(df['bin_price'] > 2.68)][\"reserveX\"].sum()"
   ]
  },
  {
   "cell_type": "code",
   "execution_count": 34,
   "metadata": {},
   "outputs": [
    {
     "data": {
      "text/plain": [
       "0       5.679747\n",
       "50      6.276464\n",
       "100     6.935873\n",
       "150     7.664559\n",
       "200     8.469802\n",
       "250     9.378363\n",
       "300    10.363660\n",
       "350    11.452471\n",
       "400    12.655674\n",
       "450    13.985286\n",
       "Name: bin_price, dtype: float64"
      ]
     },
     "execution_count": 34,
     "metadata": {},
     "output_type": "execute_result"
    }
   ],
   "source": [
    "xtick_lables"
   ]
  }
 ],
 "metadata": {
  "kernelspec": {
   "display_name": "Python 3.10.0 64-bit",
   "language": "python",
   "name": "python3"
  },
  "language_info": {
   "codemirror_mode": {
    "name": "ipython",
    "version": 3
   },
   "file_extension": ".py",
   "mimetype": "text/x-python",
   "name": "python",
   "nbconvert_exporter": "python",
   "pygments_lexer": "ipython3",
   "version": "3.10.0"
  },
  "orig_nbformat": 4,
  "vscode": {
   "interpreter": {
    "hash": "d99d0a18a83cc42924f9cadb1a0058b799906f536e890a4db8624bdf1e32147e"
   }
  }
 },
 "nbformat": 4,
 "nbformat_minor": 2
}
