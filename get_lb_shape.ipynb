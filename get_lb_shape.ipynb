{
 "cells": [
  {
   "cell_type": "code",
   "execution_count": 2,
   "metadata": {},
   "outputs": [],
   "source": [
    "from web3 import Web3\n",
    "import requests\n",
    "import time"
   ]
  },
  {
   "cell_type": "code",
   "execution_count": 3,
   "metadata": {},
   "outputs": [],
   "source": [
    "import seaborn as sn\n",
    "import numpy as np\n",
    "import pandas as pd\n",
    "import matplotlib.pyplot as plt"
   ]
  },
  {
   "cell_type": "code",
   "execution_count": 4,
   "metadata": {},
   "outputs": [],
   "source": [
    "w3 = Web3(Web3.HTTPProvider(\"https://api.avax.network/ext/bc/C/rpc\"))\n",
    "\n",
    "lb_proxy = Web3.toChecksumAddress(\"0xee5A90098b270596Ec35D637b30d908C862c86df\")\n",
    "abi=requests.get(f\"https://api.snowtrace.io/api?module=contract&action=getabi&address={lb_proxy}\").json()['result']"
   ]
  },
  {
   "cell_type": "code",
   "execution_count": 5,
   "metadata": {},
   "outputs": [],
   "source": [
    "lb_impl = Web3.toChecksumAddress(\"0xD446eb1660F766d533BeCeEf890Df7A69d26f7d1\")\n",
    "contract = w3.eth.contract(address=lb_impl, abi=abi)"
   ]
  },
  {
   "cell_type": "code",
   "execution_count": 6,
   "metadata": {},
   "outputs": [],
   "source": [
    "def get_decimals(address):\n",
    "    abi=requests.get(f\"https://api.snowtrace.io/api?module=contract&action=getabi&address={Web3.toChecksumAddress(address)}\").json()['result']\n",
    "\n",
    "    contract = w3.eth.contract(address=address, abi=abi)\n",
    "    return contract.functions.decimals().call()"
   ]
  },
  {
   "cell_type": "code",
   "execution_count": 7,
   "metadata": {},
   "outputs": [],
   "source": [
    "tokenX = contract.functions.getTokenX().call()\n",
    "tokenY = contract.functions.getTokenY().call()"
   ]
  },
  {
   "cell_type": "code",
   "execution_count": 10,
   "metadata": {},
   "outputs": [],
   "source": [
    "active_bin = contract.functions.getActiveId().call()\n",
    "left_bins = [contract.functions.getNextNonEmptyBin(True, active_bin).call()]\n",
    "right_bins = [contract.functions.getNextNonEmptyBin(False, active_bin).call()]\n"
   ]
  },
  {
   "cell_type": "code",
   "execution_count": 11,
   "metadata": {},
   "outputs": [
    {
     "name": "stdout",
     "output_type": "stream",
     "text": [
      "Found all USDC bins, looking for AVAX bins...\n"
     ]
    }
   ],
   "source": [
    "while True:\n",
    "    next_bin = contract.functions.getNextNonEmptyBin(True, left_bins[0]).call()\n",
    "    if next_bin > left_bins[0] or len(left_bins)==250:\n",
    "        break\n",
    "    else:\n",
    "        left_bins.insert(0, next_bin)\n",
    "\n",
    "print(\"Found all USDC bins, looking for AVAX bins...\")\n",
    "\n",
    "while True:\n",
    "    next_bin = contract.functions.getNextNonEmptyBin(False, right_bins[-1]).call()\n",
    "    if next_bin < right_bins[-1] or len(right_bins)==250:\n",
    "        break\n",
    "    else:\n",
    "        right_bins.append(next_bin)"
   ]
  },
  {
   "cell_type": "code",
   "execution_count": 12,
   "metadata": {},
   "outputs": [],
   "source": [
    "target_bins = left_bins + [active_bin] + right_bins"
   ]
  },
  {
   "cell_type": "code",
   "execution_count": 17,
   "metadata": {},
   "outputs": [],
   "source": [
    "import multiprocessing\n",
    "import os\n",
    "\n",
    "def process_bin(bin):\n",
    "    bin_step = 0.002\n",
    "    reserveX, reserveY = contract.functions.getBin(bin).call()\n",
    "    bin_price = (1+bin_step)**(bin-2**23)\n",
    "    print(bin, end=\"\\r\")\n",
    "    return {\"bin_id\" : bin, \"reserveX\" : reserveX, \"reserveY\" : reserveY, \"bin_price\" : bin_price}\n",
    "\n",
    "\n",
    "def get_liquidity_shape_parallel(target_bins: list) -> list:\n",
    "    data = []\n",
    "\n",
    "    with multiprocessing.Pool(processes=os.cpu_count()) as pool:\n",
    "        results = pool.map(process_bin, target_bins)\n",
    "\n",
    "    return results\n"
   ]
  },
  {
   "cell_type": "code",
   "execution_count": 13,
   "metadata": {},
   "outputs": [
    {
     "name": "stdout",
     "output_type": "stream",
     "text": [
      "Retrieving bin 500 out of 501. 1 bins lefttt\r"
     ]
    }
   ],
   "source": [
    "data = []\n",
    "bin_step = 0.002\n",
    "\n",
    "\n",
    "for i, bin in enumerate(target_bins):\n",
    "    print(f\"Retrieving bin {i} out of {len(target_bins)}. {len(target_bins)-i} bins left\", end=\"\\r\")\n",
    "    reserveX, reserveY = contract.functions.getBin(bin).call()\n",
    "    bin_price = (1+bin_step)**(bin-2**23)\n",
    "    data.append({\"bin_id\" : bin, \"reserveX\" : reserveX, \"reserveY\" : reserveY, \"bin_price\" : bin_price})"
   ]
  },
  {
   "cell_type": "code",
   "execution_count": 39,
   "metadata": {},
   "outputs": [
    {
     "data": {
      "text/html": [
       "<div>\n",
       "<style scoped>\n",
       "    .dataframe tbody tr th:only-of-type {\n",
       "        vertical-align: middle;\n",
       "    }\n",
       "\n",
       "    .dataframe tbody tr th {\n",
       "        vertical-align: top;\n",
       "    }\n",
       "\n",
       "    .dataframe thead th {\n",
       "        text-align: right;\n",
       "    }\n",
       "</style>\n",
       "<table border=\"1\" class=\"dataframe\">\n",
       "  <thead>\n",
       "    <tr style=\"text-align: right;\">\n",
       "      <th></th>\n",
       "      <th>reserveX</th>\n",
       "      <th>reserveY</th>\n",
       "      <th>bin_price</th>\n",
       "    </tr>\n",
       "    <tr>\n",
       "      <th>bin_id</th>\n",
       "      <th></th>\n",
       "      <th></th>\n",
       "      <th></th>\n",
       "    </tr>\n",
       "  </thead>\n",
       "  <tbody>\n",
       "    <tr>\n",
       "      <th>8375654</th>\n",
       "      <td>0</td>\n",
       "      <td>6027060</td>\n",
       "      <td>5.748245e-12</td>\n",
       "    </tr>\n",
       "    <tr>\n",
       "      <th>8375655</th>\n",
       "      <td>0</td>\n",
       "      <td>6027060</td>\n",
       "      <td>5.759742e-12</td>\n",
       "    </tr>\n",
       "    <tr>\n",
       "      <th>8375656</th>\n",
       "      <td>0</td>\n",
       "      <td>6027060</td>\n",
       "      <td>5.771261e-12</td>\n",
       "    </tr>\n",
       "    <tr>\n",
       "      <th>8375657</th>\n",
       "      <td>0</td>\n",
       "      <td>6027060</td>\n",
       "      <td>5.782804e-12</td>\n",
       "    </tr>\n",
       "    <tr>\n",
       "      <th>8375658</th>\n",
       "      <td>0</td>\n",
       "      <td>6027060</td>\n",
       "      <td>5.794369e-12</td>\n",
       "    </tr>\n",
       "    <tr>\n",
       "      <th>...</th>\n",
       "      <td>...</td>\n",
       "      <td>...</td>\n",
       "      <td>...</td>\n",
       "    </tr>\n",
       "    <tr>\n",
       "      <th>8376150</th>\n",
       "      <td>116389515805931832064</td>\n",
       "      <td>0</td>\n",
       "      <td>1.548550e-11</td>\n",
       "    </tr>\n",
       "    <tr>\n",
       "      <th>8376151</th>\n",
       "      <td>113942474166928265345</td>\n",
       "      <td>0</td>\n",
       "      <td>1.551647e-11</td>\n",
       "    </tr>\n",
       "    <tr>\n",
       "      <th>8376152</th>\n",
       "      <td>91642076721804578254</td>\n",
       "      <td>0</td>\n",
       "      <td>1.554750e-11</td>\n",
       "    </tr>\n",
       "    <tr>\n",
       "      <th>8376153</th>\n",
       "      <td>91940950654883558373</td>\n",
       "      <td>0</td>\n",
       "      <td>1.557860e-11</td>\n",
       "    </tr>\n",
       "    <tr>\n",
       "      <th>8376154</th>\n",
       "      <td>90377610192014542401</td>\n",
       "      <td>0</td>\n",
       "      <td>1.560975e-11</td>\n",
       "    </tr>\n",
       "  </tbody>\n",
       "</table>\n",
       "<p>501 rows × 3 columns</p>\n",
       "</div>"
      ],
      "text/plain": [
       "                      reserveX  reserveY     bin_price\n",
       "bin_id                                                \n",
       "8375654                      0   6027060  5.748245e-12\n",
       "8375655                      0   6027060  5.759742e-12\n",
       "8375656                      0   6027060  5.771261e-12\n",
       "8375657                      0   6027060  5.782804e-12\n",
       "8375658                      0   6027060  5.794369e-12\n",
       "...                        ...       ...           ...\n",
       "8376150  116389515805931832064         0  1.548550e-11\n",
       "8376151  113942474166928265345         0  1.551647e-11\n",
       "8376152   91642076721804578254         0  1.554750e-11\n",
       "8376153   91940950654883558373         0  1.557860e-11\n",
       "8376154   90377610192014542401         0  1.560975e-11\n",
       "\n",
       "[501 rows x 3 columns]"
      ]
     },
     "execution_count": 39,
     "metadata": {},
     "output_type": "execute_result"
    }
   ],
   "source": [
    "df = pd.DataFrame.from_dict(data)\n",
    "df.set_index('bin_id')"
   ]
  },
  {
   "cell_type": "code",
   "execution_count": 32,
   "metadata": {},
   "outputs": [
    {
     "data": {
      "text/html": [
       "<div>\n",
       "<style scoped>\n",
       "    .dataframe tbody tr th:only-of-type {\n",
       "        vertical-align: middle;\n",
       "    }\n",
       "\n",
       "    .dataframe tbody tr th {\n",
       "        vertical-align: top;\n",
       "    }\n",
       "\n",
       "    .dataframe thead th {\n",
       "        text-align: right;\n",
       "    }\n",
       "</style>\n",
       "<table border=\"1\" class=\"dataframe\">\n",
       "  <thead>\n",
       "    <tr style=\"text-align: right;\">\n",
       "      <th></th>\n",
       "      <th>bin_id</th>\n",
       "      <th>reserveX</th>\n",
       "      <th>reserveY</th>\n",
       "      <th>bin_price</th>\n",
       "    </tr>\n",
       "  </thead>\n",
       "  <tbody>\n",
       "  </tbody>\n",
       "</table>\n",
       "</div>"
      ],
      "text/plain": [
       "Empty DataFrame\n",
       "Columns: [bin_id, reserveX, reserveY, bin_price]\n",
       "Index: []"
      ]
     },
     "execution_count": 32,
     "metadata": {},
     "output_type": "execute_result"
    }
   ],
   "source": [
    "df[(df['reserveX'] == 0) & (df['reserveY'] == 0)]"
   ]
  },
  {
   "cell_type": "code",
   "execution_count": 33,
   "metadata": {},
   "outputs": [
    {
     "data": {
      "text/html": [
       "<div>\n",
       "<style scoped>\n",
       "    .dataframe tbody tr th:only-of-type {\n",
       "        vertical-align: middle;\n",
       "    }\n",
       "\n",
       "    .dataframe tbody tr th {\n",
       "        vertical-align: top;\n",
       "    }\n",
       "\n",
       "    .dataframe thead th {\n",
       "        text-align: right;\n",
       "    }\n",
       "</style>\n",
       "<table border=\"1\" class=\"dataframe\">\n",
       "  <thead>\n",
       "    <tr style=\"text-align: right;\">\n",
       "      <th></th>\n",
       "      <th>bin_id</th>\n",
       "      <th>reserveX</th>\n",
       "      <th>reserveY</th>\n",
       "      <th>bin_price</th>\n",
       "    </tr>\n",
       "  </thead>\n",
       "  <tbody>\n",
       "    <tr>\n",
       "      <th>250</th>\n",
       "      <td>8375904</td>\n",
       "      <td>8203661420819549681802</td>\n",
       "      <td>5097189</td>\n",
       "      <td>9.472523e-12</td>\n",
       "    </tr>\n",
       "  </tbody>\n",
       "</table>\n",
       "</div>"
      ],
      "text/plain": [
       "      bin_id                reserveX  reserveY     bin_price\n",
       "250  8375904  8203661420819549681802   5097189  9.472523e-12"
      ]
     },
     "execution_count": 33,
     "metadata": {},
     "output_type": "execute_result"
    }
   ],
   "source": [
    "df[(df['reserveX'] > 0) & (df['reserveY'] > 0)]"
   ]
  },
  {
   "cell_type": "code",
   "execution_count": 40,
   "metadata": {},
   "outputs": [
    {
     "data": {
      "text/html": [
       "<div>\n",
       "<style scoped>\n",
       "    .dataframe tbody tr th:only-of-type {\n",
       "        vertical-align: middle;\n",
       "    }\n",
       "\n",
       "    .dataframe tbody tr th {\n",
       "        vertical-align: top;\n",
       "    }\n",
       "\n",
       "    .dataframe thead th {\n",
       "        text-align: right;\n",
       "    }\n",
       "</style>\n",
       "<table border=\"1\" class=\"dataframe\">\n",
       "  <thead>\n",
       "    <tr style=\"text-align: right;\">\n",
       "      <th></th>\n",
       "      <th>bin_id</th>\n",
       "      <th>reserveX</th>\n",
       "      <th>reserveY</th>\n",
       "      <th>bin_price</th>\n",
       "      <th>reserveX_in_Y</th>\n",
       "    </tr>\n",
       "  </thead>\n",
       "  <tbody>\n",
       "    <tr>\n",
       "      <th>0</th>\n",
       "      <td>-1</td>\n",
       "      <td>0</td>\n",
       "      <td>0.000000</td>\n",
       "      <td>7.500000</td>\n",
       "      <td>NaN</td>\n",
       "    </tr>\n",
       "    <tr>\n",
       "      <th>134</th>\n",
       "      <td>8375788</td>\n",
       "      <td>0.0</td>\n",
       "      <td>57137.902727</td>\n",
       "      <td>7.512941</td>\n",
       "      <td>0.0</td>\n",
       "    </tr>\n",
       "    <tr>\n",
       "      <th>135</th>\n",
       "      <td>8375789</td>\n",
       "      <td>0.0</td>\n",
       "      <td>634.964680</td>\n",
       "      <td>7.527967</td>\n",
       "      <td>0.0</td>\n",
       "    </tr>\n",
       "    <tr>\n",
       "      <th>136</th>\n",
       "      <td>8375790</td>\n",
       "      <td>0.0</td>\n",
       "      <td>632.271469</td>\n",
       "      <td>7.543023</td>\n",
       "      <td>0.0</td>\n",
       "    </tr>\n",
       "    <tr>\n",
       "      <th>137</th>\n",
       "      <td>8375791</td>\n",
       "      <td>0.0</td>\n",
       "      <td>629.333422</td>\n",
       "      <td>7.558109</td>\n",
       "      <td>0.0</td>\n",
       "    </tr>\n",
       "    <tr>\n",
       "      <th>...</th>\n",
       "      <td>...</td>\n",
       "      <td>...</td>\n",
       "      <td>...</td>\n",
       "      <td>...</td>\n",
       "      <td>...</td>\n",
       "    </tr>\n",
       "    <tr>\n",
       "      <th>385</th>\n",
       "      <td>8376039</td>\n",
       "      <td>346.92089</td>\n",
       "      <td>0.000000</td>\n",
       "      <td>12.405323</td>\n",
       "      <td>4303.665667</td>\n",
       "    </tr>\n",
       "    <tr>\n",
       "      <th>386</th>\n",
       "      <td>8376040</td>\n",
       "      <td>357.673083</td>\n",
       "      <td>0.000000</td>\n",
       "      <td>12.430134</td>\n",
       "      <td>4445.9242</td>\n",
       "    </tr>\n",
       "    <tr>\n",
       "      <th>387</th>\n",
       "      <td>8376041</td>\n",
       "      <td>338.07283</td>\n",
       "      <td>0.000000</td>\n",
       "      <td>12.454994</td>\n",
       "      <td>4210.695019</td>\n",
       "    </tr>\n",
       "    <tr>\n",
       "      <th>388</th>\n",
       "      <td>8376042</td>\n",
       "      <td>309.800852</td>\n",
       "      <td>0.000000</td>\n",
       "      <td>12.479904</td>\n",
       "      <td>3866.284833</td>\n",
       "    </tr>\n",
       "    <tr>\n",
       "      <th>1</th>\n",
       "      <td>0</td>\n",
       "      <td>0</td>\n",
       "      <td>0.000000</td>\n",
       "      <td>12.500000</td>\n",
       "      <td>NaN</td>\n",
       "    </tr>\n",
       "  </tbody>\n",
       "</table>\n",
       "<p>257 rows × 5 columns</p>\n",
       "</div>"
      ],
      "text/plain": [
       "      bin_id    reserveX      reserveY  bin_price reserveX_in_Y\n",
       "0         -1           0      0.000000   7.500000           NaN\n",
       "134  8375788         0.0  57137.902727   7.512941           0.0\n",
       "135  8375789         0.0    634.964680   7.527967           0.0\n",
       "136  8375790         0.0    632.271469   7.543023           0.0\n",
       "137  8375791         0.0    629.333422   7.558109           0.0\n",
       "..       ...         ...           ...        ...           ...\n",
       "385  8376039   346.92089      0.000000  12.405323   4303.665667\n",
       "386  8376040  357.673083      0.000000  12.430134     4445.9242\n",
       "387  8376041   338.07283      0.000000  12.454994   4210.695019\n",
       "388  8376042  309.800852      0.000000  12.479904   3866.284833\n",
       "1          0           0      0.000000  12.500000           NaN\n",
       "\n",
       "[257 rows x 5 columns]"
      ]
     },
     "execution_count": 40,
     "metadata": {},
     "output_type": "execute_result"
    }
   ],
   "source": [
    "tokenX_decimals = 18\n",
    "tokenY_decimals = 6\n",
    "\n",
    "tokenX_symbol = \"AVAX\"\n",
    "tokenY_symbol = \"USDC\"\n",
    "\n",
    "df['reserveX'] = df['reserveX'].div(10**tokenX_decimals)\n",
    "df['reserveY'] = df['reserveY'].div(10**tokenY_decimals) \n",
    "df['bin_price'] = df['bin_price'] * 10**(tokenX_decimals-tokenY_decimals)\n",
    "df[\"reserveX_in_Y\"] = df['reserveX'] * df['bin_price']\n",
    "df = df[(df.bin_price > 7.5) & (df.bin_price < 12.5)]\n",
    "\n",
    "records = [{\"bin_id\" : -1, \"reserveX\" : 0, \"reserveY\" : 0, \"bin_price\" : 7.5, \"reserveX_in_Y\" : 0}, {\"bin_id\" : 0, \"reserveX\" : 0, \"reserveY\" : 0, \"bin_price\" : 12.5, \"reserveX_in_Y\" : 0}]\n",
    "df = pd.concat([df, pd.DataFrame.from_records(records)])\n",
    "\n",
    "df = df.sort_values(by='bin_price')\n",
    "df"
   ]
  },
  {
   "cell_type": "code",
   "execution_count": 41,
   "metadata": {},
   "outputs": [
    {
     "data": {
      "image/png": "[encoded data removed]",
      "text/plain": [
       "<Figure size 1332x756 with 1 Axes>"
      ]
     },
     "metadata": {
      "needs_background": "light"
     },
     "output_type": "display_data"
    }
   ],
   "source": [
    "\n",
    "tick_gap = 10\n",
    "\n",
    "xticks = df.bin_id[::tick_gap]\n",
    "xtick_lables = df.bin_price[::tick_gap]\n",
    "\n",
    "fig, ax = plt.subplots()\n",
    "\n",
    "ax.bar(list(df.bin_id), list(df.reserveY), label=tokenY_symbol, color='b', edgecolor=\"none\")\n",
    "ax.bar(list(df.bin_id), list(df.reserveX_in_Y), bottom=np.array(df.reserveY, dtype=float), label=tokenX_symbol, color='r', edgecolor=\"none\")\n",
    "\n",
    "ax.set_ylabel('TVL ($)')\n",
    "ax.set_xlabel('Price ($)')\n",
    "ax.set_title('LIquidity distribution per bin')\n",
    "ax.legend()\n",
    "\n",
    "ax.ticklabel_format(style='plain', useOffset=False)\n",
    "fig.set_size_inches(18.5, 10.5, forward=True)\n",
    "ax.set_xticks(xticks)\n",
    "ax.set_xticklabels(np.round(xtick_lables, 4), rotation=90)\n",
    "# plt.xticks(xticks, rotation=90)\n",
    "ax.axvline(x=active_bin, color='red', linestyle='--', label='Active Bin')\n",
    "ax.legend()\n",
    "plt.show()"
   ]
  },
  {
   "cell_type": "code",
   "execution_count": 46,
   "metadata": {},
   "outputs": [
    {
     "data": {
      "text/plain": [
       "8375899"
      ]
     },
     "execution_count": 46,
     "metadata": {},
     "output_type": "execute_result"
    }
   ],
   "source": [
    "xticks[250]"
   ]
  },
  {
   "cell_type": "code",
   "execution_count": 83,
   "metadata": {},
   "outputs": [
    {
     "data": {
      "text/plain": [
       "1300.1263747663477"
      ]
     },
     "execution_count": 83,
     "metadata": {},
     "output_type": "execute_result"
    }
   ],
   "source": [
    "df[(df['bin_price'] > 2.68)][\"reserveX\"].sum()"
   ]
  },
  {
   "cell_type": "code",
   "execution_count": 34,
   "metadata": {},
   "outputs": [
    {
     "data": {
      "text/plain": [
       "0       5.679747\n",
       "50      6.276464\n",
       "100     6.935873\n",
       "150     7.664559\n",
       "200     8.469802\n",
       "250     9.378363\n",
       "300    10.363660\n",
       "350    11.452471\n",
       "400    12.655674\n",
       "450    13.985286\n",
       "Name: bin_price, dtype: float64"
      ]
     },
     "execution_count": 34,
     "metadata": {},
     "output_type": "execute_result"
    }
   ],
   "source": [
    "xtick_lables"
   ]
  }
 ],
 "metadata": {
  "kernelspec": {
   "display_name": "Python 3.10.0 64-bit",
   "language": "python",
   "name": "python3"
  },
  "language_info": {
   "codemirror_mode": {
    "name": "ipython",
    "version": 3
   },
   "file_extension": ".py",
   "mimetype": "text/x-python",
   "name": "python",
   "nbconvert_exporter": "python",
   "pygments_lexer": "ipython3",
   "version": "3.10.0"
  },
  "orig_nbformat": 4,
  "vscode": {
   "interpreter": {
    "hash": "d99d0a18a83cc42924f9cadb1a0058b799906f536e890a4db8624bdf1e32147e"
   }
  }
 },
 "nbformat": 4,
 "nbformat_minor": 2
}
